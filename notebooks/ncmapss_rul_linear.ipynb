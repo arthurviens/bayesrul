{
 "cells": [
  {
   "cell_type": "markdown",
   "id": "14cbc2c4-8fc0-46a4-9cc6-ea892d21e072",
   "metadata": {},
   "source": [
    "## Example of training/testing using deterministic models with pytorch-lightning"
   ]
  },
  {
   "cell_type": "code",
   "execution_count": 1,
   "id": "19c48013-9b21-4860-a2eb-9b08e4be8e3b",
   "metadata": {},
   "outputs": [
    {
     "name": "stderr",
     "output_type": "stream",
     "text": [
      "/home/arthur/.conda/envs/bayesrul/lib/python3.8/site-packages/tqdm/auto.py:22: TqdmWarning: IProgress not found. Please update jupyter and ipywidgets. See https://ipywidgets.readthedocs.io/en/stable/user_install.html\n",
      "  from .autonotebook import tqdm as notebook_tqdm\n"
     ]
    }
   ],
   "source": [
    "from pathlib import Path\n",
    "from types import SimpleNamespace\n",
    "import pytorch_lightning as pl\n",
    "from pytorch_lightning.callbacks import EarlyStopping, ModelCheckpoint\n",
    "#from torch.utils.tensorboard import SummaryWriter # Uncomment to launch on vs\n",
    "\n",
    "import os\n",
    "import sys\n",
    "module_path = os.path.abspath(os.path.join('..'))\n",
    "if module_path not in sys.path: # To be able to import files \n",
    "    sys.path.append(module_path) # without installing the project\n",
    "\n",
    "import numpy as np\n",
    "\n",
    "from bayesrul.ncmapss.dataset import NCMAPSSDataModule\n",
    "from bayesrul.ncmapss.frequentist import NCMAPSSModel, get_checkpoint, TBLogger"
   ]
  },
  {
   "cell_type": "code",
   "execution_count": 2,
   "id": "0249d348-81e9-4548-b0ac-d49231c65658",
   "metadata": {},
   "outputs": [],
   "source": [
    "args = SimpleNamespace(\n",
    "    data_path=\"../data/ncmapss/\",\n",
    "    out_path=\"../results/ncmapss/\",\n",
    "    scn=\"dnn_ptl\",\n",
    "    net=\"linear\",\n",
    "    lr=1e-4\n",
    ")\n",
    "checkpoint_dir = Path(f\"{args.out_path}/{args.scn}/checkpoints/{args.net}\")\n",
    "logger = TBLogger(\n",
    "    f\"{args.out_path}/{args.scn}/lightning_logs/{args.net}\",\n",
    "    default_hp_metric=False,\n",
    ")"
   ]
  },
  {
   "cell_type": "code",
   "execution_count": 3,
   "id": "c3795895-0e94-4c47-8f3c-e7ec6ad0039e",
   "metadata": {
    "tags": []
   },
   "outputs": [
    {
     "ename": "AttributeError",
     "evalue": "'NCMAPSSModel' object has no attribute 'loss_name'",
     "output_type": "error",
     "traceback": [
      "\u001b[0;31m---------------------------------------------------------------------------\u001b[0m",
      "\u001b[0;31mAttributeError\u001b[0m                            Traceback (most recent call last)",
      "\u001b[1;32m/home/arthur/dev/bayesrul/notebooks/ncmapss_rul_linear.ipynb Cell 4'\u001b[0m in \u001b[0;36m<cell line: 6>\u001b[0;34m()\u001b[0m\n\u001b[1;32m      <a href='vscode-notebook-cell://ssh-remote%2Bgpu/home/arthur/dev/bayesrul/notebooks/ncmapss_rul_linear.ipynb#ch0000003vscode-remote?line=2'>3</a>\u001b[0m dnn \u001b[39m=\u001b[39m NCMAPSSModel(data\u001b[39m.\u001b[39mwin_length, data\u001b[39m.\u001b[39mn_features, args\u001b[39m.\u001b[39mnet)\n\u001b[1;32m      <a href='vscode-notebook-cell://ssh-remote%2Bgpu/home/arthur/dev/bayesrul/notebooks/ncmapss_rul_linear.ipynb#ch0000003vscode-remote?line=3'>4</a>\u001b[0m checkpoint_file \u001b[39m=\u001b[39m get_checkpoint(checkpoint_dir)\n\u001b[0;32m----> <a href='vscode-notebook-cell://ssh-remote%2Bgpu/home/arthur/dev/bayesrul/notebooks/ncmapss_rul_linear.ipynb#ch0000003vscode-remote?line=5'>6</a>\u001b[0m monitor \u001b[39m=\u001b[39m \u001b[39mf\u001b[39m\u001b[39m\"\u001b[39m\u001b[39m{\u001b[39;00mdnn\u001b[39m.\u001b[39mloss_name\u001b[39m}\u001b[39;00m\u001b[39m_loss/val\u001b[39m\u001b[39m\"\u001b[39m\n\u001b[1;32m      <a href='vscode-notebook-cell://ssh-remote%2Bgpu/home/arthur/dev/bayesrul/notebooks/ncmapss_rul_linear.ipynb#ch0000003vscode-remote?line=6'>7</a>\u001b[0m checkpoint_callback \u001b[39m=\u001b[39m ModelCheckpoint(dirpath\u001b[39m=\u001b[39mcheckpoint_dir, monitor\u001b[39m=\u001b[39mmonitor)\n\u001b[1;32m      <a href='vscode-notebook-cell://ssh-remote%2Bgpu/home/arthur/dev/bayesrul/notebooks/ncmapss_rul_linear.ipynb#ch0000003vscode-remote?line=7'>8</a>\u001b[0m earlystopping_callback \u001b[39m=\u001b[39m EarlyStopping(monitor\u001b[39m=\u001b[39mmonitor, patience\u001b[39m=\u001b[39m\u001b[39m10\u001b[39m)\n",
      "File \u001b[0;32m~/.conda/envs/bayesrul/lib/python3.8/site-packages/torch/nn/modules/module.py:1185\u001b[0m, in \u001b[0;36mModule.__getattr__\u001b[0;34m(self, name)\u001b[0m\n\u001b[1;32m   <a href='file:///home/arthur/.conda/envs/bayesrul/lib/python3.8/site-packages/torch/nn/modules/module.py?line=1182'>1183</a>\u001b[0m     \u001b[39mif\u001b[39;00m name \u001b[39min\u001b[39;00m modules:\n\u001b[1;32m   <a href='file:///home/arthur/.conda/envs/bayesrul/lib/python3.8/site-packages/torch/nn/modules/module.py?line=1183'>1184</a>\u001b[0m         \u001b[39mreturn\u001b[39;00m modules[name]\n\u001b[0;32m-> <a href='file:///home/arthur/.conda/envs/bayesrul/lib/python3.8/site-packages/torch/nn/modules/module.py?line=1184'>1185</a>\u001b[0m \u001b[39mraise\u001b[39;00m \u001b[39mAttributeError\u001b[39;00m(\u001b[39m\"\u001b[39m\u001b[39m'\u001b[39m\u001b[39m{}\u001b[39;00m\u001b[39m'\u001b[39m\u001b[39m object has no attribute \u001b[39m\u001b[39m'\u001b[39m\u001b[39m{}\u001b[39;00m\u001b[39m'\u001b[39m\u001b[39m\"\u001b[39m\u001b[39m.\u001b[39mformat(\n\u001b[1;32m   <a href='file:///home/arthur/.conda/envs/bayesrul/lib/python3.8/site-packages/torch/nn/modules/module.py?line=1185'>1186</a>\u001b[0m     \u001b[39mtype\u001b[39m(\u001b[39mself\u001b[39m)\u001b[39m.\u001b[39m\u001b[39m__name__\u001b[39m, name))\n",
      "\u001b[0;31mAttributeError\u001b[0m: 'NCMAPSSModel' object has no attribute 'loss_name'"
     ]
    }
   ],
   "source": [
    "# Just to illustrate. To properly train see scripts/cmapss_training.py\n",
    "data = NCMAPSSDataModule(args.data_path, batch_size=10000)\n",
    "dnn = NCMAPSSModel(data.win_length, data.n_features, args.net)\n",
    "checkpoint_file = get_checkpoint(checkpoint_dir)\n",
    "\n",
    "monitor = f\"{dnn.loss}_loss/val\"\n",
    "checkpoint_callback = ModelCheckpoint(dirpath=checkpoint_dir, monitor=monitor)\n",
    "earlystopping_callback = EarlyStopping(monitor=monitor, patience=10)\n",
    "\n",
    "trainer = pl.Trainer(\n",
    "    gpus=[0],\n",
    "    max_epochs=1000,\n",
    "    log_every_n_steps=2,\n",
    "    logger=logger,\n",
    "    callbacks=[\n",
    "        checkpoint_callback,\n",
    "        earlystopping_callback,\n",
    "    ],\n",
    ")\n",
    "trainer.fit(dnn, data, ckpt_path=checkpoint_file)"
   ]
  },
  {
   "cell_type": "code",
   "execution_count": null,
   "id": "79eee8ca-d32b-4a2e-8bab-ffe11c945a68",
   "metadata": {},
   "outputs": [
    {
     "name": "stderr",
     "output_type": "stream",
     "text": [
      "GPU available: True, used: True\n",
      "TPU available: False, using: 0 TPU cores\n",
      "IPU available: False, using: 0 IPUs\n",
      "HPU available: False, using: 0 HPUs\n",
      "LOCAL_RANK: 0 - CUDA_VISIBLE_DEVICES: [0,1,2]\n"
     ]
    },
    {
     "name": "stdout",
     "output_type": "stream",
     "text": [
      "Testing DataLoader 0: 100%|██████████| 13/13 [00:00<00:00, 62.60it/s]\n",
      "Test MSE : 465.4652099609375\n",
      "Test RMSE : 21.57464275395858\n"
     ]
    }
   ],
   "source": [
    "data = NCMAPSSDataModule(args.data_path, batch_size=1000)\n",
    "dnn = NCMAPSSModel.load_from_checkpoint(get_checkpoint(checkpoint_dir))\n",
    "trainer = pl.Trainer(gpus=[0], log_every_n_steps=10, logger=logger, \n",
    "                    max_epochs=-1) # Silence warning\n",
    "test_loss = trainer.test(dnn, data, verbose=False)\n",
    "print(f\"Test MSE : {test_loss[0][f'{dnn.loss_name}_loss/test']}\")\n",
    "print(f\"Test RMSE : {np.sqrt(test_loss[0][f'{dnn.loss_name}_loss/test'])}\")"
   ]
  },
  {
   "cell_type": "code",
   "execution_count": null,
   "id": "11ca1032",
   "metadata": {},
   "outputs": [],
   "source": []
  }
 ],
 "metadata": {
  "interpreter": {
   "hash": "6b2345fd679233fa62ecef160ea9fce4350d5e8917f0303a6059b4bb22e39dfa"
  },
  "kernelspec": {
   "display_name": "bnnrul",
   "language": "python",
   "name": "python3"
  },
  "language_info": {
   "codemirror_mode": {
    "name": "ipython",
    "version": 3
   },
   "file_extension": ".py",
   "mimetype": "text/x-python",
   "name": "python",
   "nbconvert_exporter": "python",
   "pygments_lexer": "ipython3",
   "version": "3.8.13"
  }
 },
 "nbformat": 4,
 "nbformat_minor": 5
}
