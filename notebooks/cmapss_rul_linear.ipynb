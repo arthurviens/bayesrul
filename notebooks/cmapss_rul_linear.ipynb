{
 "cells": [
  {
   "cell_type": "markdown",
   "id": "14cbc2c4-8fc0-46a4-9cc6-ea892d21e072",
   "metadata": {},
   "source": [
    "## Example of training/testing using deterministic models with pytorch-lightning"
   ]
  },
  {
   "cell_type": "code",
   "execution_count": 7,
   "id": "19c48013-9b21-4860-a2eb-9b08e4be8e3b",
   "metadata": {},
   "outputs": [],
   "source": [
    "from pathlib import Path\n",
    "from types import SimpleNamespace\n",
    "import pytorch_lightning as pl\n",
    "from pytorch_lightning.callbacks import EarlyStopping, ModelCheckpoint\n",
    "\n",
    "import os\n",
    "import sys\n",
    "module_path = os.path.abspath(os.path.join('..'))\n",
    "if module_path not in sys.path: # To be able to import files \n",
    "    sys.path.append(module_path) # without installing the project\n",
    "\n",
    "from bayesrul.cmapss.dataset import CMAPSSDataModule\n",
    "from bayesrul.cmapss.models import CMAPSSModel, get_checkpoint, TBLogger"
   ]
  },
  {
   "cell_type": "code",
   "execution_count": 8,
   "id": "0249d348-81e9-4548-b0ac-d49231c65658",
   "metadata": {},
   "outputs": [],
   "source": [
    "args = SimpleNamespace(\n",
    "    data_path=\"../data/cmapss/\",\n",
    "    out_path=\"../results/cmapss/\",\n",
    "    scn=\"dnn_ptl\",\n",
    "    net=\"linear\",\n",
    ")\n",
    "checkpoint_dir = Path(f\"{args.out_path}/{args.scn}/checkpoints/{args.net}\")\n",
    "logger = TBLogger(\n",
    "    f\"{args.out_path}/{args.scn}/lightning_logs/{args.net}\",\n",
    "    default_hp_metric=False,\n",
    ")"
   ]
  },
  {
   "cell_type": "code",
   "execution_count": 10,
   "id": "c3795895-0e94-4c47-8f3c-e7ec6ad0039e",
   "metadata": {
    "tags": []
   },
   "outputs": [
    {
     "name": "stderr",
     "output_type": "stream",
     "text": [
      "GPU available: True, used: True\n",
      "TPU available: False, using: 0 TPU cores\n",
      "IPU available: False, using: 0 IPUs\n",
      "HPU available: False, using: 0 HPUs\n",
      "/home/arthur/.conda/envs/bayesrul/lib/python3.8/site-packages/pytorch_lightning/callbacks/model_checkpoint.py:608: UserWarning: Checkpoint directory /home/arthur/dev/bayesrul/results/cmapss/dnn_ptl/checkpoints/linear exists and is not empty.\n",
      "  rank_zero_warn(f\"Checkpoint directory {dirpath} exists and is not empty.\")\n",
      "Restoring states from the checkpoint path at ../results/cmapss/dnn_ptl/checkpoints/linear/epoch=9-step=20.ckpt\n",
      "LOCAL_RANK: 0 - CUDA_VISIBLE_DEVICES: [0,1,2]\n",
      "\n",
      "  | Name | Type   | Params\n",
      "--------------------------------\n",
      "0 | net  | Linear | 45.6 K\n",
      "--------------------------------\n",
      "45.6 K    Trainable params\n",
      "0         Non-trainable params\n",
      "45.6 K    Total params\n",
      "0.182     Total estimated model params size (MB)\n",
      "Restored all states from the checkpoint file at ../results/cmapss/dnn_ptl/checkpoints/linear/epoch=9-step=20.ckpt\n"
     ]
    }
   ],
   "source": [
    "# Just to illustrate. To properly train see scripts/cmapss_training.py\n",
    "data = CMAPSSDataModule(args.data_path, batch_size=10000)\n",
    "dnn = CMAPSSModel(data.win_length, data.n_features, args.net)\n",
    "\n",
    "checkpoint_file = get_checkpoint(checkpoint_dir)\n",
    "monitor = \"loss/val\"\n",
    "checkpoint_callback = ModelCheckpoint(dirpath=checkpoint_dir, monitor=monitor)\n",
    "earlystopping_callback = EarlyStopping(monitor=monitor, patience=20)\n",
    "\n",
    "trainer = pl.Trainer(\n",
    "    gpus=[0],\n",
    "    max_epochs=10,\n",
    "    log_every_n_steps=2,\n",
    "    logger=logger,\n",
    "    callbacks=[\n",
    "        checkpoint_callback,\n",
    "        earlystopping_callback,\n",
    "    ],\n",
    ")\n",
    "trainer.fit(dnn, data, ckpt_path=checkpoint_file)"
   ]
  },
  {
   "cell_type": "code",
   "execution_count": 11,
   "id": "79eee8ca-d32b-4a2e-8bab-ffe11c945a68",
   "metadata": {},
   "outputs": [
    {
     "name": "stderr",
     "output_type": "stream",
     "text": [
      "/home/arthur/.conda/envs/bayesrul/lib/python3.8/site-packages/pytorch_lightning/loops/utilities.py:91: PossibleUserWarning: `max_epochs` was not set. Setting it to 1000 epochs. To train without an epoch limit, set `max_epochs=-1`.\n",
      "  rank_zero_warn(\n",
      "GPU available: True, used: True\n",
      "TPU available: False, using: 0 TPU cores\n",
      "IPU available: False, using: 0 IPUs\n",
      "HPU available: False, using: 0 HPUs\n",
      "LOCAL_RANK: 0 - CUDA_VISIBLE_DEVICES: [0,1,2]\n"
     ]
    },
    {
     "data": {
      "application/vnd.jupyter.widget-view+json": {
       "model_id": "0644b967814b4c1ca0f00296c3f66a4d",
       "version_major": 2,
       "version_minor": 0
      },
      "text/plain": [
       "Testing: 0it [00:00, ?it/s]"
      ]
     },
     "metadata": {},
     "output_type": "display_data"
    },
    {
     "data": {
      "text/plain": [
       "[{'loss/test': 5722.74853515625}]"
      ]
     },
     "execution_count": 11,
     "metadata": {},
     "output_type": "execute_result"
    }
   ],
   "source": [
    "data = CMAPSSDataModule(args.data_path, batch_size=1000)\n",
    "dnn = CMAPSSModel.load_from_checkpoint(get_checkpoint(checkpoint_dir))\n",
    "trainer = pl.Trainer(gpus=[0], log_every_n_steps=10, logger=logger)\n",
    "trainer.test(dnn, data, verbose=False)"
   ]
  },
  {
   "cell_type": "code",
   "execution_count": 12,
   "id": "c37aaa13-17b1-45dc-9510-a8388be55a65",
   "metadata": {},
   "outputs": [
    {
     "name": "stdout",
     "output_type": "stream",
     "text": [
      "Win length 18, n_features 14\n"
     ]
    }
   ],
   "source": [
    "dl = data.train_dataloader()\n",
    "print(f\"Win length {data.win_length}, n_features {data.n_features}\")\n",
    "ex = next(iter(dl))"
   ]
  },
  {
   "cell_type": "code",
   "execution_count": null,
   "id": "c9233feb",
   "metadata": {},
   "outputs": [],
   "source": []
  }
 ],
 "metadata": {
  "interpreter": {
   "hash": "6b2345fd679233fa62ecef160ea9fce4350d5e8917f0303a6059b4bb22e39dfa"
  },
  "kernelspec": {
   "display_name": "bnnrul",
   "language": "python",
   "name": "python3"
  },
  "language_info": {
   "codemirror_mode": {
    "name": "ipython",
    "version": 3
   },
   "file_extension": ".py",
   "mimetype": "text/x-python",
   "name": "python",
   "nbconvert_exporter": "python",
   "pygments_lexer": "ipython3",
   "version": "3.8.13"
  }
 },
 "nbformat": 4,
 "nbformat_minor": 5
}
